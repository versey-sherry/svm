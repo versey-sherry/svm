{
  "nbformat": 4,
  "nbformat_minor": 0,
  "metadata": {
    "colab": {
      "name": "SVM",
      "provenance": [],
      "collapsed_sections": [],
      "authorship_tag": "ABX9TyNUYGANrMhCRtdtsHcaJRPE",
      "include_colab_link": true
    },
    "kernelspec": {
      "name": "python3",
      "display_name": "Python 3"
    }
  },
  "cells": [
    {
      "cell_type": "markdown",
      "metadata": {
        "id": "view-in-github",
        "colab_type": "text"
      },
      "source": [
        "<a href=\"https://colab.research.google.com/github/versey-sherry/svm/blob/master/SVM.ipynb\" target=\"_parent\"><img src=\"https://colab.research.google.com/assets/colab-badge.svg\" alt=\"Open In Colab\"/></a>"
      ]
    },
    {
      "cell_type": "markdown",
      "metadata": {
        "id": "hM19A85Fkqh6",
        "colab_type": "text"
      },
      "source": [
        "Application of Machine Learning To Epileptic Seizure Detection(2010)\n",
        "\n",
        "\"The characteristics of EEG vary significantly across patients. In fact, EEG associated with seizure onset in one patient may closely resemble a benign\n",
        "pattern within the EEG of another patient\"\n",
        "\n",
        "\"The key to our classifier’s high accuracy is a completely automated process for constructing a feature vector that unifies in a single feature space the time-evolution of spectral and spatial properties of the brain’s electrical activity.\"\n",
        "\n",
        "\"An EEG channel is formed by taking the difference between potentials measured at two electrodes, and captures the summed potential of millions of neurons.\" (The Anterior Posterior Montage)\n",
        "\n",
        "\"Our goal is to construct a function f(X) that maps a feature vector X derived from the EEG onto the labels Y = ±1 depending on whether X is representative of seizure or non-seizure EEG.\""
      ]
    },
    {
      "cell_type": "code",
      "metadata": {
        "id": "tf21kZSZNqah",
        "colab_type": "code",
        "outputId": "cc19b97e-7152-4edf-fdca-031dffd1954f",
        "colab": {
          "base_uri": "https://localhost:8080/",
          "height": 207
        }
      },
      "source": [
        "!pip install svmlight"
      ],
      "execution_count": 0,
      "outputs": [
        {
          "output_type": "stream",
          "text": [
            "Collecting svmlight\n",
            "\u001b[?25l  Downloading https://files.pythonhosted.org/packages/11/05/dd324f7084b151460d1890c138fbbe07e71bcc5770b5953715090413dc52/svmlight-0.4.tar.gz (54kB)\n",
            "\r\u001b[K     |██████                          | 10kB 14.8MB/s eta 0:00:01\r\u001b[K     |████████████                    | 20kB 3.1MB/s eta 0:00:01\r\u001b[K     |██████████████████              | 30kB 4.3MB/s eta 0:00:01\r\u001b[K     |███████████████████████▉        | 40kB 2.9MB/s eta 0:00:01\r\u001b[K     |█████████████████████████████▉  | 51kB 3.6MB/s eta 0:00:01\r\u001b[K     |████████████████████████████████| 61kB 2.9MB/s \n",
            "\u001b[?25hBuilding wheels for collected packages: svmlight\n",
            "  Building wheel for svmlight (setup.py) ... \u001b[?25l\u001b[?25hdone\n",
            "  Created wheel for svmlight: filename=svmlight-0.4-cp36-cp36m-linux_x86_64.whl size=156546 sha256=b90363e4b9680c09ab4f247152fd7dd43f96e99e7d93bc5c8c1dc48f61e87554\n",
            "  Stored in directory: /root/.cache/pip/wheels/df/cc/37/d1b3f04a432af60603ff1bc86ec2a84c06506fbca6ca05682a\n",
            "Successfully built svmlight\n",
            "Installing collected packages: svmlight\n",
            "Successfully installed svmlight-0.4\n"
          ],
          "name": "stdout"
        }
      ]
    },
    {
      "cell_type": "code",
      "metadata": {
        "id": "tp9wgvwbSu2F",
        "colab_type": "code",
        "colab": {}
      },
      "source": [
        "#Process the data into seizure segments"
      ],
      "execution_count": 0,
      "outputs": []
    },
    {
      "cell_type": "markdown",
      "metadata": {
        "id": "BJMXz1d0nLn3",
        "colab_type": "text"
      },
      "source": [
        "Benign patterns and onset seizures may share a lot of similar frequency \n",
        "but onset seizures could be identified with the presence or absense of certain frequency\n",
        "\n",
        "Feature vector construction [Spectral features + Spatial features + Time evlolution]\n",
        "\n",
        "EEG data is non-stationary, so sliding window length of 2 second is used. We train the SVM on seizure vectors computed from the first S seconds of K seizures, and on non-seizure vectors computed from at least 24 hours of nonseizure EEG. A long period of non-seizure EEG is used to ensure that awake, sleep, abnormal, and artifactcontaminated EEG are included."
      ]
    },
    {
      "cell_type": "code",
      "metadata": {
        "id": "W3VvDbXRnGbL",
        "colab_type": "code",
        "colab": {}
      },
      "source": [
        "#Spectral features (M = 8, test with M = 2 and M = 4) Frequency range: 0.5Hz to 25Hz (approx. 1Hz overlap)\n",
        "#Vector length (M)\n",
        "#bandpass filter bank and measure the energy in the bandpass (FFT -> Spetral density -> add up the density)"
      ],
      "execution_count": 0,
      "outputs": []
    },
    {
      "cell_type": "code",
      "metadata": {
        "id": "NW-Pl612nGjO",
        "colab_type": "code",
        "colab": {}
      },
      "source": [
        "#Spatial features 18 Channels N = 18\n",
        "#Vector length M * N\n",
        "#(FP1-F7,F7-T7, T7-P7, P7-O1, FP1-F3, F3-C3, C3-P3, P3-O1, FP2-F4, F4-C4, C4-P4, P4-O2, FP2-F8, F8-T8, T8-P8, P8-O2, FZ-CZ, CZ-PZ)"
      ],
      "execution_count": 0,
      "outputs": []
    },
    {
      "cell_type": "markdown",
      "metadata": {
        "id": "vC-Qglcur4sX",
        "colab_type": "text"
      },
      "source": [
        "\"Electroencephalographers require an EEG abnormality\n",
        "to persist and evolve for a minimum of 6-10 seconds\n",
        "before considering the abnormality a seizure or\n",
        "a component of a seizure.\""
      ]
    },
    {
      "cell_type": "code",
      "metadata": {
        "id": "aezW7QV-2kwg",
        "colab_type": "code",
        "colab": {}
      },
      "source": [
        ""
      ],
      "execution_count": 0,
      "outputs": []
    },
    {
      "cell_type": "code",
      "metadata": {
        "id": "rFSRcDbLnGny",
        "colab_type": "code",
        "colab": {}
      },
      "source": [
        "#EEG non-overlapped continuous epochs (W=3, test with W=2 and W=4, for non-seizure, at least 24 hours of non-seizure data is used, window size 24hour)\n",
        "#Vector length(W*M*N)"
      ],
      "execution_count": 0,
      "outputs": []
    },
    {
      "cell_type": "code",
      "metadata": {
        "id": "zbhuE6-dOAJw",
        "colab_type": "code",
        "colab": {}
      },
      "source": [
        "#Hyper parameter for SVM RBF kernel gamma = 0.1 trade-off between classification and error C= 1\n",
        "#SVM documentation https://www.cs.cornell.edu/people/tj/svm_light/\n",
        "#SVM model Train with vector(W*M*N and M*N)"
      ],
      "execution_count": 0,
      "outputs": []
    },
    {
      "cell_type": "code",
      "metadata": {
        "id": "wmT_jr832LSV",
        "colab_type": "code",
        "colab": {}
      },
      "source": [
        ""
      ],
      "execution_count": 0,
      "outputs": []
    },
    {
      "cell_type": "code",
      "metadata": {
        "id": "ItOPFsVPulWN",
        "colab_type": "code",
        "colab": {}
      },
      "source": [
        "#Evaluation\n",
        "#Specificity (True postive rate)\n",
        "#Sensitivity (False positive rate *different from normal ML definition)"
      ],
      "execution_count": 0,
      "outputs": []
    }
  ]
}